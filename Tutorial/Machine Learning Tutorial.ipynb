{
 "cells": [
  {
   "cell_type": "markdown",
   "metadata": {},
   "source": [
    "# A functional Introduction to Property Predictions: Python based machine learning #\n",
    "\n",
    "### PLEASE FEEL FREE TO EMAIL QUESTIONS TO ME AT KAAIKAUWE@GMAIL.COM ###\n",
    "\n",
    "In this tutorial we cover the basic steps needed to begin material property based machine learning using python 3.6.. Because I prefer learning from youtube myself, I have created a playlist \"A functional Introduction to Property Predictions\": https://www.youtube.com/playlist?list=PLawAtY0TtS6u1o_AQNb5eWNXFn_UREl-B to walk you through the code in this tutorial. The Machine learning workshop will be focused on covering Sections 2 and Sections 3 of this tutorial with new data and in more detail. \n",
    "\n",
    "## Tutorial Outline ##\n",
    "_________\n",
    "### Section 1:  get setup ###\n",
    "(these steps work for me running windows)\n",
    "- downloading python 3.6 using the anaconda installation\n",
    "- installation of extra python packages\n",
    "- importing packages\n",
    "- finding documentation\n",
    "- A few basic functions to know\n",
    "\n",
    "### Section 2: read in data ###\n",
    "**_DATA FOR THIS TUTORIAL AND THE WORKSHOP CAN BE FOUND AT:_** https://drive.google.com/open?id=1gAeESVOezMg2NJ_86akryFQBq9vImCd8\n",
    "- get material data\n",
    "- processing material data using the pandas package\n",
    "- visualizing data with the seaborn package\n",
    "- add formula based features to the data\n",
    "\n",
    "### Section 3: get predicting ###\n",
    "- model selection with the scikit-learn package\n",
    "- how to implement cross-validation\n",
    "- verification of model performance\n",
    "\n",
    "______"
   ]
  },
  {
   "cell_type": "markdown",
   "metadata": {},
   "source": [
    "# Section 1 #"
   ]
  },
  {
   "cell_type": "markdown",
   "metadata": {},
   "source": [
    "### Download python 3 using the anaconda installation ###\n",
    "\n",
    "We will be using python 3 for this tutorial. If you do not already have python 3 installed, I recommend downloading python 3 using the Anaconda installation found at https://www.anaconda.com/download/. The Anaconda installation contains the core python 3 installation as well as a collection of additional packages and software that are handy for efficient scientific programming.\n",
    "\n",
    "Once you have installed python, you can open up Jupyter notebook to try writting a few lines of code. Jupyter is a convinient way to program readable code. You should be able to open jupyter notebook from your list of programs. You can also access the program through the Command Prompt by simple typing \"jupyter notebook\" without the quotes. This link may help if you are having trouble opening jupyter http://jupyter-notebook-beginner-guide.readthedocs.io/en/latest/execute.html. \n",
    "\n",
    "From here you should try to open up a new python file. The video 'section 1' on the youtube playlist linked above includes the steps of opening jupyter notebook and creating a new python file. \n",
    "\n",
    "If you want to play around here, there are a lot of great tutorials to follow to learn the basics of python. TheNewBoston does a particularly wgood tutorial series for beginners. If are interested in learning the basics of python programming, you can start here: https://youtu.be/HBxCHonP6Ro."
   ]
  },
  {
   "cell_type": "markdown",
   "metadata": {},
   "source": [
    "### Installation of python packages ###\n",
    "We will be using a number of python packages to aide us with machine learning. A Python package is collection of python based functions and definitions that can be used in your code. We will take advantage of these to save as much time as possible.\n",
    "\n",
    "The packages we want to use include:\n",
    "- **numpy**: handles matrices and arrays \n",
    "- **pandas**: used to create dataframes to simplify data processing\n",
    "- **pymatgen**: the materials project API for python -- used to parse chemical formula information\n",
    "- **seaborn**: visualize material data during pre-processing\n",
    "- **matplotlib**: visualize model performance\n",
    "- **scikit-learn**: machine learning library for data processing and model creation/optimization\n",
    "\n",
    "Some of these do not come with the anaconda instillation. We can check if a package is installed by running the following lines of code:"
   ]
  },
  {
   "cell_type": "code",
   "execution_count": 1,
   "metadata": {},
   "outputs": [
    {
     "name": "stdout",
     "output_type": "stream",
     "text": [
      "You have the current packages installed:\n",
      "    matplotlib==3.0.2\n",
      "    numpy==1.15.4\n",
      "    pandas==0.23.4\n",
      "    pymatgen==2018.9.30\n",
      "    scikit-learn==0.20.1\n",
      "    seaborn==0.9.0\n",
      "\n",
      "You are missing the following package(s):\n",
      "    example-missing-package\n"
     ]
    }
   ],
   "source": [
    "import pkg_resources\n",
    "\n",
    "installed_packages = pkg_resources.working_set\n",
    "#print(installed_packages)\n",
    "installed_packages_list = sorted([\"%s==%s\" % (i.key, i.version)\n",
    "     for i in installed_packages])\n",
    "#print(installed_packages_list)\n",
    "\n",
    "necessary_packages = ['numpy',\n",
    "                 'pandas',\n",
    "                 'pymatgen',\n",
    "                 'seaborn',\n",
    "                 'matplotlib',\n",
    "                 'scikit-learn',\n",
    "                 'example-missing-package-FAKE'\n",
    "                 ]\n",
    "\n",
    "current_packages = sorted([\"%s\" % (package.key) for package in installed_packages if package.key in necessary_packages])\n",
    "current_packages_plus_version = sorted([\"%s==%s\" % (package.key, package.version) for package in installed_packages if package.key in necessary_packages])\n",
    "missing_packages = sorted([package for package in necessary_packages if package not in current_packages])\n",
    "\n",
    "print('You have the current packages installed:')\n",
    "for package in current_packages_plus_version:\n",
    "    print('    ' + package)\n",
    "    \n",
    "print('\\nYou are missing the following package(s):')\n",
    "for package in missing_packages:\n",
    "    print('    ' + package)"
   ]
  },
  {
   "cell_type": "markdown",
   "metadata": {},
   "source": [
    "## ___________\n",
    "We will use the command line CMD, and **pip** to install missing packages. A detailed description for installing python packages and modules can be found here: https://docs.python.org/3/installing/index.html.\n",
    "\n",
    "In the command line, we can install all of these packages using the format:\n",
    "```\n",
    "pip install packagename\n",
    "```\n",
    "_*note: if you already had python 2 installed on your computer, use pip3 instead of pip to install packages_\n",
    "```\n",
    "pip3 install packagename\n",
    "```\n",
    "------\n",
    "__If you cannot access pip using the command prompt, try opening up the anaconda prompt. Similarly, if pip doesn't work to install pymatgen, you can do the anaconda based install found here: http://pymatgen.org/installation.html__\n",
    "```\n",
    "conda install --channel matsci pymatgen\n",
    "```\n"
   ]
  },
  {
   "cell_type": "markdown",
   "metadata": {},
   "source": [
    "You should now have the necessary packages installed and are ready to start coding. The most basics things you will need to know for running materials based machine learning algorithms will be discussed in this tutorial. There is an increadible amount of material that I will not cover. The documentation for each of these packages is worth looking over as you get comfortable with their basic functions. Links to the official documentation are below, however these tend to have a lot of technical jargon. Consider typing questions directly into google; you are more likely to find similar questions answered in simple terms.\n",
    "\n",
    "- numpy: https://docs.scipy.org/doc/\n",
    "- pandas: https://pandas.pydata.org/pandas-docs/stable/\n",
    "- pymatgen: http://pymatgen.org/\n",
    "- seaborn: https://seaborn.pydata.org/\n",
    "- matplotlib: https://matplotlib.org/contents.html\n",
    "- scikit-learn: http://scikit-learn.org/stable/documentation.html"
   ]
  },
  {
   "cell_type": "markdown",
   "metadata": {},
   "source": [
    "# Section 2 #\n",
    "- get material data and handle material data using the pandas package\n",
    "- visualizing data with the seaborn package\n",
    "- add formula based features to the data"
   ]
  },
  {
   "cell_type": "markdown",
   "metadata": {},
   "source": [
    "### Handle material data with pandas ###\n",
    "\n",
    "There are two goals for this section:\n",
    "\n",
    "1. __read in data__\n",
    "2. __add features based on chemical formula__\n",
    "\n",
    "We will start by looking at inorganic heat capacity data taken from the NIST: JANAF tables (https://janaf.nist.gov/). We will need to download this data into the folder that contains this python file. The heat capacity data can be grabbed here: https://drive.google.com/open?id=1gAeESVOezMg2NJ_86akryFQBq9vImCd8\n",
    "\n",
    "This dataset contains heat capacity data for almost 300 inorganic compounds. We will use this dataset show how formula features are generated, and talk about some data processing choices."
   ]
  },
  {
   "cell_type": "markdown",
   "metadata": {},
   "source": [
    "__get heat capacity data into python__  \n",
    "To handle the heat capacity data, we will take advantage of the packages we have installed. The ```pandas``` package can be used to store information in dataframes that preserve the rows and columns format of a csv or excel sheet. We will import the pandas package with the abreviation 'pd' using the line of code:\n",
    "```\n",
    "import pandas as pd\n",
    "```\n",
    "This allows us to more succinctly call the pandas package. We will then read in the downloaded csv with pandas (pd) assigning the information in the csv to the variable heat_capacity_dataframe. \n",
    "\n",
    "Once the heat capacity data is read into our file, we can quickly visual the data. A fast way to do this is to grab the first few rows of the imported data (now saved as a pandas ```DataFrame```). We can do this using the code:  \n",
    "```\n",
    "heat_capacity_dataframe.head()\n",
    "```\n",
    "The heat capacity data is saved in a pandas dataframe, because of this, we can access ```pd.DataFrame()``` specific methods. This is performed using the syntax \"pd.*DataFrame*().*method*()\".  \n",
    "\n",
    "For us, *heat_capacity_dataframe* is equivalent to *df.DataFrame()*. The *method()* we use is *head()*, and returns the first 5 rows of our data."
   ]
  },
  {
   "cell_type": "code",
   "execution_count": 61,
   "metadata": {},
   "outputs": [
    {
     "data": {
      "text/html": [
       "<div>\n",
       "<style scoped>\n",
       "    .dataframe tbody tr th:only-of-type {\n",
       "        vertical-align: middle;\n",
       "    }\n",
       "\n",
       "    .dataframe tbody tr th {\n",
       "        vertical-align: top;\n",
       "    }\n",
       "\n",
       "    .dataframe thead th {\n",
       "        text-align: right;\n",
       "    }\n",
       "</style>\n",
       "<table border=\"1\" class=\"dataframe\">\n",
       "  <thead>\n",
       "    <tr style=\"text-align: right;\">\n",
       "      <th></th>\n",
       "      <th>FORMULA</th>\n",
       "      <th>PROPERTY: Heat Capacity (J/mol K)</th>\n",
       "    </tr>\n",
       "  </thead>\n",
       "  <tbody>\n",
       "    <tr>\n",
       "      <th>0</th>\n",
       "      <td>Al1</td>\n",
       "      <td>24.209</td>\n",
       "    </tr>\n",
       "    <tr>\n",
       "      <th>1</th>\n",
       "      <td>Al1Br3</td>\n",
       "      <td>100.578</td>\n",
       "    </tr>\n",
       "    <tr>\n",
       "      <th>2</th>\n",
       "      <td>Al1Cl1O1</td>\n",
       "      <td>56.902</td>\n",
       "    </tr>\n",
       "    <tr>\n",
       "      <th>3</th>\n",
       "      <td>Al1Cl3</td>\n",
       "      <td>91.128</td>\n",
       "    </tr>\n",
       "    <tr>\n",
       "      <th>4</th>\n",
       "      <td>Al1Cl4K1</td>\n",
       "      <td>156.482</td>\n",
       "    </tr>\n",
       "  </tbody>\n",
       "</table>\n",
       "</div>"
      ],
      "text/plain": [
       "    FORMULA  PROPERTY: Heat Capacity (J/mol K)\n",
       "0       Al1                             24.209\n",
       "1    Al1Br3                            100.578\n",
       "2  Al1Cl1O1                             56.902\n",
       "3    Al1Cl3                             91.128\n",
       "4  Al1Cl4K1                            156.482"
      ]
     },
     "execution_count": 61,
     "metadata": {},
     "output_type": "execute_result"
    }
   ],
   "source": [
    "import pandas as pd\n",
    "heat_capacity_dataframe = pd.read_csv('heat_capacity_298K.csv')\n",
    "heat_capacity_dataframe.head()"
   ]
  },
  {
   "cell_type": "markdown",
   "metadata": {},
   "source": [
    "We can see there are two columns in this data, 'FORMULA' and 'PROPERTY: Heat Capacity (J/mol K)'. We can access the values in a particular column using square brackets and calling the columns name as a string (both quotation marks -- \"string\" and 'string' -- can be used to denote strings). This lets the python know we want the sequence of letters 'PROPERTY: Heat Capacity (J/mol K)' passed into the function, and not a variable with the same name. This code:\n",
    "````\n",
    "heat_capacity_dataframe['PROPERTY: Heat Capacity (J/mol K)']\n",
    "```\n",
    "will return a vector contain all the heat capacity vales stored in this column. We can try print that below. To limit the number of elements printed, we will be using the list slice:\n",
    "```\n",
    "LIST[0:5]\n",
    "```\n",
    "In our example, the variable ```heat_capacity_dataframe['PROPERTY: Heat Capacity (J/mol K)']``` replaces *LIST*, and is sliced to only have the first 5 elements."
   ]
  },
  {
   "cell_type": "code",
   "execution_count": 62,
   "metadata": {},
   "outputs": [
    {
     "name": "stdout",
     "output_type": "stream",
     "text": [
      "0     24.209\n",
      "1    100.578\n",
      "2     56.902\n",
      "3     91.128\n",
      "4    156.482\n",
      "Name: PROPERTY: Heat Capacity (J/mol K), dtype: float64\n"
     ]
    }
   ],
   "source": [
    "sliced_list = heat_capacity_dataframe['PROPERTY: Heat Capacity (J/mol K)'][0:5]\n",
    "print(sliced_list)"
   ]
  },
  {
   "cell_type": "markdown",
   "metadata": {},
   "source": [
    "## look at data with seaborn ##\n",
    "\n",
    "Now that we know how to access the heat capacity data, we can now look at the distribution of the data. Most machine learning algorithms perform best on normalized data. The seaborn package allows us to quickly see the distribution. We will import t"
   ]
  },
  {
   "cell_type": "code",
   "execution_count": 63,
   "metadata": {},
   "outputs": [
    {
     "name": "stderr",
     "output_type": "stream",
     "text": [
      "C:\\Users\\awang\\AppData\\Local\\Continuum\\anaconda3\\lib\\site-packages\\scipy\\stats\\stats.py:1713: FutureWarning: Using a non-tuple sequence for multidimensional indexing is deprecated; use `arr[tuple(seq)]` instead of `arr[seq]`. In the future this will be interpreted as an array index, `arr[np.array(seq)]`, which will result either in an error or a different result.\n",
      "  return np.add.reduce(sorted[indexer] * weights, axis=axis) / sumval\n"
     ]
    },
    {
     "data": {
      "image/png": "[encoded data removed]",
      "text/plain": [
       "<Figure size 432x288 with 1 Axes>"
      ]
     },
     "metadata": {
      "needs_background": "light"
     },
     "output_type": "display_data"
    },
    {
     "data": {
      "image/png": "[encoded data removed]",
      "text/plain": [
       "<Figure size 432x288 with 1 Axes>"
      ]
     },
     "metadata": {
      "needs_background": "light"
     },
     "output_type": "display_data"
    }
   ],
   "source": [
    "# allows for plots in jupyter notebook\n",
    "import matplotlib.pyplot as plt\n",
    "# this seems to be not needed anymore -> % matplotlib inline\n",
    "\n",
    "import seaborn as sns\n",
    "# generates the normal curve cosest to our data\n",
    "from scipy.stats import norm \n",
    "from scipy import stats\n",
    "\n",
    "# make graph to visiualize distribution of heat capacities\n",
    "sns.distplot(heat_capacity_dataframe['PROPERTY: Heat Capacity (J/mol K)'], fit=norm)\n",
    "fig = plt.figure()\n",
    "res = stats.probplot(heat_capacity_dataframe['PROPERTY: Heat Capacity (J/mol K)'], plot=plt)"
   ]
  },
  {
   "cell_type": "markdown",
   "metadata": {},
   "source": [
    "Although it is not perfect, we can confimed the data is close to a normal distribution. Perfectly normal data would lie on the red line of the probability plot. A more robust approach could normalize the data to help improve algorithm performance. \n",
    "\n",
    "To briefly illustrate this, lets consider a log transformation, which looks appropriate for the distribution of heat capacity values. The numpy package has many built in math functions (including *log*), so we will import that now."
   ]
  },
  {
   "cell_type": "code",
   "execution_count": 64,
   "metadata": {},
   "outputs": [
    {
     "data": {
      "image/png": "[encoded data removed]",
      "text/plain": [
       "<Figure size 432x288 with 1 Axes>"
      ]
     },
     "metadata": {
      "needs_background": "light"
     },
     "output_type": "display_data"
    },
    {
     "data": {
      "image/png": "[encoded data removed]",
      "text/plain": [
       "<Figure size 432x288 with 1 Axes>"
      ]
     },
     "metadata": {
      "needs_background": "light"
     },
     "output_type": "display_data"
    }
   ],
   "source": [
    "import numpy as np\n",
    "\n",
    "# here we do a log transformation. this can often help normalize data\n",
    "log_cp = np.log(heat_capacity_dataframe['PROPERTY: Heat Capacity (J/mol K)'])\n",
    "\n",
    "sns.distplot(log_cp, fit=norm)\n",
    "fig = plt.figure()\n",
    "res = stats.probplot(log_cp, plot=plt)"
   ]
  },
  {
   "cell_type": "markdown",
   "metadata": {},
   "source": [
    "We can see that a log transformation may help us improve the data if we choose to use it.  \n",
    "\n",
    "For now we will move on to converting the formula into a feature vector (without performing the log transformation)."
   ]
  },
  {
   "cell_type": "markdown",
   "metadata": {},
   "source": [
    "## make feature vector from formula ##\n",
    "I have written a function, ```get_features()```, to do this for us. This function uses the materials project API's, which can be accessed through the pymatgen package. The numpy package is also used in this function, which allows us to take advantage of arrays and matrices.  We will import the pymatgen package and define the ```get_features()``` function below. You can notice we define a variable element_data. This contains the elemental information that is used to make the features. Feel free to open up the csv to see what type of information is included."
   ]
  },
  {
   "cell_type": "code",
   "execution_count": 72,
   "metadata": {},
   "outputs": [],
   "source": [
    "import pymatgen as mg\n",
    "\n",
    "element_data = pd.read_csv(r'simple_element_properties.csv', index_col=0)\n",
    "\n",
    "def get_features(formula):\n",
    "    '''\n",
    "    Input\n",
    "    ----------\n",
    "    formula: string\n",
    "        put a valid chemical fomula as a sting. Example( 'NaCl')\n",
    "\n",
    "    Output\n",
    "    ----------\n",
    "    features: np.array()\n",
    "        This is an 1x252 length array containing feature values for use in the\n",
    "        machine learning model.\n",
    "    '''\n",
    "    try:\n",
    "        # get fractional and elemental compositions (e.g. Na0.5Cl0.5 or Na1Cl1)\n",
    "        fractional_composition = mg.Composition(formula).fractional_composition.as_dict()\n",
    "        element_composition = mg.Composition(formula).element_composition.as_dict()\n",
    "        \n",
    "        # create arrays for average and sum of features\n",
    "        avg_feature = np.zeros(len(element_data.iloc[0]))\n",
    "        sum_feature = np.zeros(len(element_data.iloc[0]))\n",
    "        for key in fractional_composition:\n",
    "            try:\n",
    "                # calculate average and sum of features, \".loc\" accesses the group of rows and columns by label(s) or a boolean array\n",
    "                avg_feature += element_data.loc[key].values * fractional_composition[key]\n",
    "                sum_feature += element_data.loc[key].values * element_composition[key]\n",
    "            except:\n",
    "                print('The element:', key, 'is not currently supported in our database')\n",
    "                return np.array([np.nan]*len(element_data.iloc[0])*4)\n",
    "            \n",
    "        # get variance and range of the feature values\n",
    "        var_feature = element_data.loc[list(fractional_composition.keys())].var()\n",
    "        range_feature = element_data.loc[list(fractional_composition.keys())].max()-element_data.loc[list(fractional_composition.keys())].min()\n",
    "\n",
    "        # concatenate features vector\n",
    "        # features = pd.DataFrame(np.concatenate([avg_feature, sum_feature, np.array(var_feature), np.array(range_feature)]))\n",
    "        features = np.concatenate([avg_feature, sum_feature, np.array(var_feature), np.array(range_feature)])\n",
    "        return features.transpose()\n",
    "    except:\n",
    "        print('There was and error with the Formula: '+ formula + ', this is a general exception with an unkown error')\n",
    "        return [np.nan]*len(element_data.iloc[0])*4"
   ]
  },
  {
   "cell_type": "markdown",
   "metadata": {},
   "source": [
    "To demonstrate feature vectorization, lets start with something simple, NaCl. We will save this to a variable named example_vector. To get the feature vector for NaCl, we need to pass it into the function as a 'string'.\n",
    "\n",
    "We can look at the length of the variable, example_vector using the build in functions print() and len(), which display text and return the size of an array respectively."
   ]
  },
  {
   "cell_type": "code",
   "execution_count": 73,
   "metadata": {},
   "outputs": [
    {
     "name": "stdout",
     "output_type": "stream",
     "text": [
      "A vector with 228 formula based features has been created\n",
      "shape of example_vector:  (228,)\n"
     ]
    }
   ],
   "source": [
    "example_vector = get_features('NaCl')\n",
    "print('A vector with', len(example_vector), 'formula based features has been created')\n",
    "print('shape of example_vector: ', example_vector.shape)\n",
    "# delete the '#' on the next line to see entire vector ('#' starts a comment).\n",
    "# print('\\nexample_vector:',example_vector)"
   ]
  },
  {
   "cell_type": "markdown",
   "metadata": {},
   "source": [
    "Now lets create a feature vector for each entry in our heat capacity data. We will do this by iterating over each instance in our data. We can iterate over the formula, and target value simultaneously if we use the ```zip``` function. This lets us create two dataframes. One for the targets (or property of interest), the other for the features we have just created."
   ]
  },
  {
   "cell_type": "code",
   "execution_count": 74,
   "metadata": {},
   "outputs": [],
   "source": [
    "# create empy lists to add features, and targets to\n",
    "features = []\n",
    "targets = []\n",
    "\n",
    "for formula, target in zip(heat_capacity_dataframe['FORMULA'],\n",
    "                           heat_capacity_dataframe[\n",
    "                               'PROPERTY: Heat Capacity (J/mol K)']):\n",
    "    # send the formula into the get_features function. Saves the feature vector\n",
    "    features.append(get_features(formula))\n",
    "    targets.append(target)\n",
    "    \n",
    "# define the features and target for machine learning\n",
    "df_features = pd.DataFrame(features)\n",
    "\n",
    "# a series is the 'vector' version of a dataframe.\n",
    "# you will usually want your target vector to be a series if using sklearn\n",
    "# for machine learning.\n",
    "df_targets = pd.Series(targets)\n",
    "\n",
    "#print(df_features.shape)\n",
    "#print(df_targets.shape)\n",
    "\n",
    "#print(df_features.head())\n",
    "#print(df_targets.head())"
   ]
  },
  {
   "cell_type": "markdown",
   "metadata": {},
   "source": [
    "There are now distinct dataframes for the formula-based features and their respective heat capacities. We will run a few more lines of code to ensure there are no missing values. We will drop formula which we could not convert into feature vectors. We will also replace missing feature values with the average values in the dataset. Once this is done, we will be ready to do some machine learning."
   ]
  },
  {
   "cell_type": "code",
   "execution_count": 83,
   "metadata": {},
   "outputs": [],
   "source": [
    "# drop elements that aren't included in the elmenetal properties list. These\n",
    "# will be returned as feature rows completely full of Nan values.\n",
    "df_features.dropna(inplace=True, how='all')\n",
    "\n",
    "#df_targets = df_targets.loc[df_features.index]\n",
    "\n",
    "df_features.reset_index(drop=True, inplace=True)\n",
    "df_targets.reset_index(drop=True, inplace=True)\n",
    "\n",
    "# The missing or NaN values need to be replaced before ML process. Here I have\n",
    "# chosen to replace the missing values with the mean values in the data\n",
    "cols = df_features.columns.values\n",
    "\n",
    "# mean_values = df_features[cols].mean() #originally from Kaai\n",
    "mean_values = df_features[cols].mean(axis=1) #modified by Anthony\n",
    "\n",
    "# df_features[cols]=df_features[cols].fillna(mean_values.iloc[0]) #originally from Kaai\n",
    "df_features[cols]=df_features[cols].fillna(mean_values.iloc[cols]) #modified by Anthony"
   ]
  },
  {
   "cell_type": "markdown",
   "metadata": {},
   "source": [
    "# Section 3: get predicting #\n",
    "- format data and split for validation\n",
    "- model selection with the scikit-learn package\n",
    "- verification of model performance"
   ]
  },
  {
   "cell_type": "markdown",
   "metadata": {},
   "source": [
    "### formating data for machine learning ###\n",
    "\n",
    "Up to this point, we have created 3 important dataframes:\n",
    "\n",
    "1. ```heat_capacity_dataframe```: holding the formula heat capacity values\n",
    "2. ```df_features```: holding the feature vectors created from the formulae\n",
    "3. ```df_targets```: holding heat capacity values associated with the feature vector\n",
    "\n",
    "The graphic bellow illustrates these dataframes."
   ]
  },
  {
   "cell_type": "markdown",
   "metadata": {},
   "source": [
    "### Split data for validation ###\n",
    "At this point we could train a machine learning model. However, we want to be able to verify how well the model works. To do this, we will split the df_features and df_targets data into two sections. One will be used to train the machine learning model, and the other will be used to test the performance of the machine learning model. "
   ]
  },
  {
   "cell_type": "markdown",
   "metadata": {},
   "source": [
    "We can easily split the data into training and test sets using the sklearn package. This package has many of the tools necessary for machine learning. The following code imports necessay tools from sklearn, and splits our data into training and test sets."
   ]
  },
  {
   "cell_type": "code",
   "execution_count": 84,
   "metadata": {},
   "outputs": [
    {
     "name": "stdout",
     "output_type": "stream",
     "text": [
      "number of training data: 184 \n",
      "number of test data: 92\n"
     ]
    }
   ],
   "source": [
    "from sklearn.model_selection import train_test_split\n",
    "\n",
    "# here we assign the training and test split for the data. unlike the\n",
    "# illustration above. The test set is made from a random sampling of\n",
    "# 1/3 the data, as opposed the the last 1/3 of the data\n",
    "X_train, X_test, y_train, y_test =  train_test_split(\n",
    "    # we have chosen to train on 2/3 of the data and test 1/3\n",
    "    df_features, df_targets, test_size=0.33, random_state=1)\n",
    "\n",
    "print('number of training data:', len(X_train), '\\nnumber of test data:', len(X_test))"
   ]
  },
  {
   "cell_type": "markdown",
   "metadata": {},
   "source": [
    "### Create model and verify performance ###\n",
    "We now have data formated in a way that a machine learning algorithm can use. Lets use now sklearn to grab an algorithm and create a model. For this example, lets use a random forest regression. We will first create an instance of the randomforest algorithm. Once we have done that, we can fit the algorithm to our data creating a model that should be able to predict heat capacity."
   ]
  },
  {
   "cell_type": "code",
   "execution_count": 85,
   "metadata": {},
   "outputs": [
    {
     "data": {
      "text/plain": [
       "RandomForestRegressor(bootstrap=True, criterion='mse', max_depth=40,\n",
       "           max_features='auto', max_leaf_nodes=None,\n",
       "           min_impurity_decrease=0.0, min_impurity_split=None,\n",
       "           min_samples_leaf=1, min_samples_split=2,\n",
       "           min_weight_fraction_leaf=0.0, n_estimators=150, n_jobs=None,\n",
       "           oob_score=False, random_state=None, verbose=0, warm_start=False)"
      ]
     },
     "execution_count": 85,
     "metadata": {},
     "output_type": "execute_result"
    }
   ],
   "source": [
    "# we import the algorithm here\n",
    "from sklearn.ensemble import RandomForestRegressor\n",
    "\n",
    "# we will set rf to be a specific instance of the random forest algorithm,\n",
    "# matching the parameters that we define here\n",
    "rf = RandomForestRegressor(n_estimators=150, max_depth=40, min_samples_leaf=1)\n",
    "\n",
    "# we will create a model based on our data.\n",
    "rf.fit(X_train, y_train)"
   ]
  },
  {
   "cell_type": "markdown",
   "metadata": {},
   "source": [
    "We now have a working model ```rf```. We can now use its build in methods to predict heat capacity values given new data. Lets try that using the feature vector for our test set. After making a prediction, we grab the coefficient of determination R^2 using `rf.score`, and make a plot to visualize performance"
   ]
  },
  {
   "cell_type": "code",
   "execution_count": 86,
   "metadata": {},
   "outputs": [
    {
     "name": "stdout",
     "output_type": "stream",
     "text": [
      "score: 0.911347860790907\n"
     ]
    },
    {
     "data": {
      "text/plain": [
       "<matplotlib.legend.Legend at 0x1585b17ba20>"
      ]
     },
     "execution_count": 86,
     "metadata": {},
     "output_type": "execute_result"
    },
    {
     "data": {
      "image/png": "[encoded data removed]",
      "text/plain": [
       "<Figure size 576x576 with 1 Axes>"
      ]
     },
     "metadata": {
      "needs_background": "light"
     },
     "output_type": "display_data"
    }
   ],
   "source": [
    "y_predict = rf.predict(X_test)\n",
    "\n",
    "print('score:', rf.score(X_test, y_test))\n",
    "\n",
    "plt.figure(1, figsize=(8, 8))\n",
    "plt.plot(y_test, y_predict, 'ro', markersize=12, mfc='none')\n",
    "plt.plot([0,1000],[0,1000], 'k', linewidth=2)\n",
    "plt.xlabel('Actual Heat Capacity (J/mol K)', fontsize=15)\n",
    "plt.ylabel('Predicted Heat Capacity (J/mol K)', fontsize=15)\n",
    "plt.xlim((0, max(y_test)))\n",
    "plt.ylim((0, max(y_test)))\n",
    "ticks = np.linspace(0, 300, 5)\n",
    "plt.xticks(ticks)\n",
    "plt.yticks(ticks)\n",
    "plt.legend(['Density (MPDB)','Ideal Performance'], loc='best', fontsize=15)"
   ]
  },
  {
   "cell_type": "markdown",
   "metadata": {},
   "source": [
    "Great! It looks like this model does a pretty good job of predicting room temperature heat capacity!"
   ]
  },
  {
   "cell_type": "markdown",
   "metadata": {},
   "source": [
    "## Summary ## \n",
    "\n",
    "You have now seen some of the minimum steps required to do basic machine learning. Before you go, lets quickly go over the steps we took one more time.\n",
    "\n",
    "1. installed python and important useful packages\n",
    "2. imported the heat capacity data and visualized it\n",
    "3. created feature vectors and split the data into train and test sets\n",
    "4. imported the random forest algorithm and fit a model to the training set \n",
    "5. predicted the performance of the test set, and compared it to the actual values\n",
    "\n",
    "__I hope this was helpful! Again, feel free to email questions to me at kaaikauwe@gmail.com__"
   ]
  }
 ],
 "metadata": {
  "kernelspec": {
   "display_name": "Python 3",
   "language": "python",
   "name": "python3"
  },
  "language_info": {
   "codemirror_mode": {
    "name": "ipython",
    "version": 3
   },
   "file_extension": ".py",
   "mimetype": "text/x-python",
   "name": "python",
   "nbconvert_exporter": "python",
   "pygments_lexer": "ipython3",
   "version": "3.7.1"
  }
 },
 "nbformat": 4,
 "nbformat_minor": 2
}
