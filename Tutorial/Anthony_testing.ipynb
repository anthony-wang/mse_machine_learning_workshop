{
 "cells": [
  {
   "cell_type": "code",
   "execution_count": 15,
   "metadata": {},
   "outputs": [
    {
     "name": "stdout",
     "output_type": "stream",
     "text": [
      "<pkg_resources.WorkingSet object at 0x000002761A28D860>\n"
     ]
    }
   ],
   "source": [
    "import pkg_resources\n",
    "\n",
    "installed_packages = pkg_resources.working_set\n",
    "#print(installed_packages)\n",
    "installed_packages_list = sorted([\"%s==%s\" % (i.key, i.version)\n",
    "     for i in installed_packages])\n",
    "#print(installed_packages_list)\n"
   ]
  },
  {
   "cell_type": "code",
   "execution_count": 17,
   "metadata": {},
   "outputs": [
    {
     "name": "stdout",
     "output_type": "stream",
     "text": [
      "['numpy', 'pandas', 'pymatgen', 'seaborn', 'matplotlib', 'scikit-learn', 'example-missing-package']\n"
     ]
    }
   ],
   "source": [
    "necessary_packages = ['numpy',\n",
    "                 'pandas',\n",
    "                 'pymatgen',\n",
    "                 'seaborn',\n",
    "                 'matplotlib',\n",
    "                 'scikit-learn',\n",
    "                 'example-missing-package'\n",
    "                 ]\n",
    "print(necessary_packages)"
   ]
  },
  {
   "cell_type": "code",
   "execution_count": 19,
   "metadata": {},
   "outputs": [
    {
     "name": "stdout",
     "output_type": "stream",
     "text": [
      "You have the current packages installed:\n",
      "    matplotlib==3.0.2\n",
      "    numpy==1.15.4\n",
      "    pandas==0.23.4\n",
      "    scikit-learn==0.20.1\n",
      "    seaborn==0.9.0\n",
      "\n",
      "You are missing the following package(s):\n",
      "    example-missing-package\n",
      "    pymatgen\n"
     ]
    }
   ],
   "source": [
    "current_packages = sorted([\"%s\" % (package.key) for package in installed_packages if package.key in necessary_packages])\n",
    "current_packages_plus_version = sorted([\"%s==%s\" % (package.key, package.version) for package in installed_packages if package.key in necessary_packages])\n",
    "missing_packages = sorted([package for package in necessary_packages if package not in current_packages])\n",
    "\n",
    "print('You have the current packages installed:')\n",
    "for package in current_packages_plus_version:\n",
    "    print('    ' + package)\n",
    "    \n",
    "print('\\nYou are missing the following package(s):')\n",
    "for package in missing_packages:\n",
    "    print('    ' + package)"
   ]
  },
  {
   "cell_type": "code",
   "execution_count": 2,
   "metadata": {},
   "outputs": [
    {
     "data": {
      "text/html": [
       "<div>\n",
       "<style scoped>\n",
       "    .dataframe tbody tr th:only-of-type {\n",
       "        vertical-align: middle;\n",
       "    }\n",
       "\n",
       "    .dataframe tbody tr th {\n",
       "        vertical-align: top;\n",
       "    }\n",
       "\n",
       "    .dataframe thead th {\n",
       "        text-align: right;\n",
       "    }\n",
       "</style>\n",
       "<table border=\"1\" class=\"dataframe\">\n",
       "  <thead>\n",
       "    <tr style=\"text-align: right;\">\n",
       "      <th></th>\n",
       "      <th>FORMULA</th>\n",
       "      <th>PROPERTY: Heat Capacity (J/mol K)</th>\n",
       "    </tr>\n",
       "  </thead>\n",
       "  <tbody>\n",
       "    <tr>\n",
       "      <th>1</th>\n",
       "      <td>Al1Br3</td>\n",
       "      <td>100.578</td>\n",
       "    </tr>\n",
       "    <tr>\n",
       "      <th>2</th>\n",
       "      <td>Al1Cl1O1</td>\n",
       "      <td>56.902</td>\n",
       "    </tr>\n",
       "    <tr>\n",
       "      <th>3</th>\n",
       "      <td>Al1Cl3</td>\n",
       "      <td>91.128</td>\n",
       "    </tr>\n",
       "    <tr>\n",
       "      <th>4</th>\n",
       "      <td>Al1Cl4K1</td>\n",
       "      <td>156.482</td>\n",
       "    </tr>\n",
       "    <tr>\n",
       "      <th>5</th>\n",
       "      <td>Al1Cl4Na1</td>\n",
       "      <td>154.975</td>\n",
       "    </tr>\n",
       "    <tr>\n",
       "      <th>6</th>\n",
       "      <td>Al1Cl6K3</td>\n",
       "      <td>248.906</td>\n",
       "    </tr>\n",
       "    <tr>\n",
       "      <th>7</th>\n",
       "      <td>Al1Cl6Na3</td>\n",
       "      <td>244.136</td>\n",
       "    </tr>\n",
       "    <tr>\n",
       "      <th>8</th>\n",
       "      <td>Al1F3</td>\n",
       "      <td>75.132</td>\n",
       "    </tr>\n",
       "    <tr>\n",
       "      <th>9</th>\n",
       "      <td>Al1F6K3</td>\n",
       "      <td>222.798</td>\n",
       "    </tr>\n",
       "  </tbody>\n",
       "</table>\n",
       "</div>"
      ],
      "text/plain": [
       "     FORMULA  PROPERTY: Heat Capacity (J/mol K)\n",
       "1     Al1Br3                            100.578\n",
       "2   Al1Cl1O1                             56.902\n",
       "3     Al1Cl3                             91.128\n",
       "4   Al1Cl4K1                            156.482\n",
       "5  Al1Cl4Na1                            154.975\n",
       "6   Al1Cl6K3                            248.906\n",
       "7  Al1Cl6Na3                            244.136\n",
       "8      Al1F3                             75.132\n",
       "9    Al1F6K3                            222.798"
      ]
     },
     "execution_count": 2,
     "metadata": {},
     "output_type": "execute_result"
    }
   ],
   "source": [
    "import pandas as pd\n",
    "heat_capacity_dataframe = pd.read_csv('heat_capacity_298K.csv')\n",
    "heat_capacity_dataframe[1:10]"
   ]
  },
  {
   "cell_type": "code",
   "execution_count": 4,
   "metadata": {},
   "outputs": [
    {
     "name": "stdout",
     "output_type": "stream",
     "text": [
      "0     24.209\n",
      "1    100.578\n",
      "2     56.902\n",
      "3     91.128\n",
      "4    156.482\n",
      "Name: PROPERTY: Heat Capacity (J/mol K), dtype: float64\n"
     ]
    }
   ],
   "source": [
    "sliced_list = heat_capacity_dataframe['PROPERTY: Heat Capacity (J/mol K)'][0:5]\n",
    "print(sliced_list)"
   ]
  },
  {
   "cell_type": "code",
   "execution_count": 11,
   "metadata": {},
   "outputs": [],
   "source": [
    "# allows for plots in jupyter notebook\n",
    "import matplotlib.pyplot as plt\n",
    "\n",
    "import seaborn as sns\n",
    "# generates the normal curve cosest to our data\n",
    "from scipy.stats import norm \n",
    "from scipy import stats"
   ]
  },
  {
   "cell_type": "code",
   "execution_count": 12,
   "metadata": {},
   "outputs": [
    {
     "data": {
      "text/plain": [
       "<matplotlib.axes._subplots.AxesSubplot at 0x1f04e493be0>"
      ]
     },
     "execution_count": 12,
     "metadata": {},
     "output_type": "execute_result"
    },
    {
     "data": {
      "image/png": "[encoded data removed]",
      "text/plain": [
       "<Figure size 432x288 with 1 Axes>"
      ]
     },
     "metadata": {
      "needs_background": "light"
     },
     "output_type": "display_data"
    }
   ],
   "source": [
    "# make graph to visiualize distribution of heat capacities\n",
    "sns.distplot(heat_capacity_dataframe['PROPERTY: Heat Capacity (J/mol K)'], fit=norm)"
   ]
  },
  {
   "cell_type": "code",
   "execution_count": 15,
   "metadata": {},
   "outputs": [
    {
     "data": {
      "image/png": "[encoded data removed]",
      "text/plain": [
       "<Figure size 432x288 with 1 Axes>"
      ]
     },
     "metadata": {
      "needs_background": "light"
     },
     "output_type": "display_data"
    }
   ],
   "source": [
    "fig = plt.figure()\n",
    "res = stats.probplot(heat_capacity_dataframe['PROPERTY: Heat Capacity (J/mol K)'], plot=plt)"
   ]
  },
  {
   "cell_type": "code",
   "execution_count": 16,
   "metadata": {},
   "outputs": [],
   "source": [
    "import numpy as np"
   ]
  },
  {
   "cell_type": "code",
   "execution_count": 18,
   "metadata": {},
   "outputs": [
    {
     "name": "stdout",
     "output_type": "stream",
     "text": [
      "1    4.610934\n",
      "2    4.041330\n",
      "3    4.512265\n",
      "4    5.052941\n",
      "5    5.043264\n",
      "6    5.517075\n",
      "7    5.497725\n",
      "8    4.319247\n",
      "9    5.406266\n",
      "Name: PROPERTY: Heat Capacity (J/mol K), dtype: float64\n"
     ]
    }
   ],
   "source": [
    "# here we do a log transformation. this can often help normalize data\n",
    "log_cp = np.log(heat_capacity_dataframe['PROPERTY: Heat Capacity (J/mol K)'])\n",
    "print(log_cp[1:10])"
   ]
  },
  {
   "cell_type": "code",
   "execution_count": 19,
   "metadata": {},
   "outputs": [
    {
     "data": {
      "image/png": "[encoded data removed]",
      "text/plain": [
       "<Figure size 432x288 with 1 Axes>"
      ]
     },
     "metadata": {
      "needs_background": "light"
     },
     "output_type": "display_data"
    },
    {
     "data": {
      "image/png": "[encoded data removed]",
      "text/plain": [
       "<Figure size 432x288 with 1 Axes>"
      ]
     },
     "metadata": {
      "needs_background": "light"
     },
     "output_type": "display_data"
    }
   ],
   "source": [
    "sns.distplot(log_cp, fit=norm)\n",
    "fig = plt.figure()\n",
    "res = stats.probplot(log_cp, plot=plt)"
   ]
  },
  {
   "cell_type": "code",
   "execution_count": 60,
   "metadata": {},
   "outputs": [],
   "source": [
    "import pymatgen as mg\n",
    "\n",
    "element_data = pd.read_csv(r'simple_element_properties.csv', index_col=0)\n",
    "\n",
    "def get_features(formula):\n",
    "    '''\n",
    "    Input\n",
    "    ----------\n",
    "    formula: string\n",
    "        put a valid chemical fomula as a sting. Example( 'NaCl')\n",
    "\n",
    "    Output\n",
    "    ----------\n",
    "    features: np.array()\n",
    "        This is an 1x252 length array containing feature values for use in the\n",
    "        machine learning model.\n",
    "    '''\n",
    "    try:\n",
    "        # get fractional and elemental compositions (e.g. Na0.5Cl0.5 or Na1Cl1)\n",
    "        fractional_composition = mg.Composition(formula).fractional_composition.as_dict()\n",
    "        element_composition = mg.Composition(formula).element_composition.as_dict()\n",
    "        \n",
    "        # create arrays for average and sum of features\n",
    "        avg_feature = np.zeros(len(element_data.iloc[0]))\n",
    "        sum_feature = np.zeros(len(element_data.iloc[0]))\n",
    "        for key in fractional_composition:\n",
    "            try:\n",
    "                # calculate average and sum of features\n",
    "                avg_feature += element_data.loc[key].values * fractional_composition[key]\n",
    "                sum_feature += element_data.loc[key].values * element_composition[key]\n",
    "            except:\n",
    "                print('The element:', key, 'is not currently supported in our database')\n",
    "                return np.array([np.nan]*len(element_data.iloc[0])*4)\n",
    "            \n",
    "        # get variance and range of the feature values\n",
    "        var_feature = element_data.loc[list(fractional_composition.keys())].var()\n",
    "        range_feature = element_data.loc[list(fractional_composition.keys())].max()-element_data.loc[list(fractional_composition.keys())].min()\n",
    "\n",
    "        # concatenate features vector\n",
    "        features = pd.DataFrame(np.concatenate([avg_feature, sum_feature, np.array(var_feature), np.array(range_feature)]))\n",
    "        # features = np.concatenate([avg_feature, sum_feature, np.array(var_feature), np.array(range_feature)])\n",
    "        return features.transpose()\n",
    "    except:\n",
    "        print('There was and error with the Formula: '+ formula + ', this is a general exception with an unkown error')\n",
    "        return [np.nan]*len(element_data.iloc[0])*4"
   ]
  },
  {
   "cell_type": "code",
   "execution_count": 61,
   "metadata": {},
   "outputs": [
    {
     "data": {
      "text/plain": [
       "array([1.10000e+01, 2.29900e+01, 3.00000e+00, 1.00000e+00, 1.00000e+00,\n",
       "       2.00000e+00, 0.00000e+00, 1.90000e+00, 1.80000e+02, 1.54000e+00,\n",
       "       2.65000e+00, 1.80000e+00, 1.71300e+02, 1.16000e+00, 9.30000e-01,\n",
       "       8.90000e-01, 9.50000e-01, 2.85000e+00, 2.54000e+00, 2.85000e+00,\n",
       "       8.70000e-01, 1.00000e+00, 1.00000e+00, 1.00000e+00, 1.00000e+00,\n",
       "       0.00000e+00, 0.00000e+00, 0.00000e+00, 1.00000e+00, 6.00000e+00,\n",
       "       1.00000e+01, 1.40000e+01, 1.00000e+00, 4.96000e+02, 2.36000e+01,\n",
       "       3.70950e+02, 1.15615e+03, 4.00000e-02, 9.70000e-01, 2.82800e+01,\n",
       "       1.23000e+00, 2.60000e+00, 9.69600e+01, 1.41000e+02, 1.09000e+02,\n",
       "       1.11000e+00, 6.80000e+00, 5.50000e-01, 2.37800e+01, 2.36000e+00,\n",
       "       3.30000e+00, 1.00000e+00, 3.66000e+02, 2.57300e+03, 1.56500e+02,\n",
       "       1.55000e+02, 2.65000e+00])"
      ]
     },
     "execution_count": 61,
     "metadata": {},
     "output_type": "execute_result"
    }
   ],
   "source": [
    "element_data.loc['Na'].values"
   ]
  },
  {
   "cell_type": "code",
   "execution_count": 62,
   "metadata": {},
   "outputs": [],
   "source": [
    "a = np.array([11,17])"
   ]
  },
  {
   "cell_type": "code",
   "execution_count": 55,
   "metadata": {},
   "outputs": [
    {
     "data": {
      "text/plain": [
       "9.0"
      ]
     },
     "execution_count": 55,
     "metadata": {},
     "output_type": "execute_result"
    }
   ],
   "source": [
    "a.var()"
   ]
  },
  {
   "cell_type": "code",
   "execution_count": 63,
   "metadata": {},
   "outputs": [
    {
     "data": {
      "text/plain": [
       "['Na', 'Cl']"
      ]
     },
     "execution_count": 63,
     "metadata": {},
     "output_type": "execute_result"
    }
   ],
   "source": [
    "list(fractional_composition.keys())"
   ]
  },
  {
   "cell_type": "code",
   "execution_count": 64,
   "metadata": {},
   "outputs": [
    {
     "data": {
      "text/html": [
       "<div>\n",
       "<style scoped>\n",
       "    .dataframe tbody tr th:only-of-type {\n",
       "        vertical-align: middle;\n",
       "    }\n",
       "\n",
       "    .dataframe tbody tr th {\n",
       "        vertical-align: top;\n",
       "    }\n",
       "\n",
       "    .dataframe thead th {\n",
       "        text-align: right;\n",
       "    }\n",
       "</style>\n",
       "<table border=\"1\" class=\"dataframe\">\n",
       "  <thead>\n",
       "    <tr style=\"text-align: right;\">\n",
       "      <th></th>\n",
       "      <th>Atomic_Number</th>\n",
       "      <th>Atomic_Weight</th>\n",
       "      <th>Period</th>\n",
       "      <th>group</th>\n",
       "      <th>families</th>\n",
       "      <th>Mendele_Number</th>\n",
       "      <th>l_quantum_number</th>\n",
       "      <th>Atomic_Radus</th>\n",
       "      <th>Miracle_Radius_[pm]</th>\n",
       "      <th>Covalent_Radius</th>\n",
       "      <th>...</th>\n",
       "      <th>nws(e/au3)</th>\n",
       "      <th>volume(10-6m3)</th>\n",
       "      <th>Work_function</th>\n",
       "      <th>G</th>\n",
       "      <th>abs_valence</th>\n",
       "      <th>Nearest_Neighbor_Distance(pm)</th>\n",
       "      <th>Critical_Temperature</th>\n",
       "      <th>Low_Temp_Debye(K)</th>\n",
       "      <th>High_Temp_Debye(K)</th>\n",
       "      <th>Atomic_Concentration(1e-23_cm-3)</th>\n",
       "    </tr>\n",
       "    <tr>\n",
       "      <th>Symbol</th>\n",
       "      <th></th>\n",
       "      <th></th>\n",
       "      <th></th>\n",
       "      <th></th>\n",
       "      <th></th>\n",
       "      <th></th>\n",
       "      <th></th>\n",
       "      <th></th>\n",
       "      <th></th>\n",
       "      <th></th>\n",
       "      <th></th>\n",
       "      <th></th>\n",
       "      <th></th>\n",
       "      <th></th>\n",
       "      <th></th>\n",
       "      <th></th>\n",
       "      <th></th>\n",
       "      <th></th>\n",
       "      <th></th>\n",
       "      <th></th>\n",
       "      <th></th>\n",
       "    </tr>\n",
       "  </thead>\n",
       "  <tbody>\n",
       "    <tr>\n",
       "      <th>Na</th>\n",
       "      <td>11</td>\n",
       "      <td>22.99</td>\n",
       "      <td>3</td>\n",
       "      <td>1</td>\n",
       "      <td>1</td>\n",
       "      <td>2</td>\n",
       "      <td>0</td>\n",
       "      <td>1.90</td>\n",
       "      <td>180.0</td>\n",
       "      <td>1.54</td>\n",
       "      <td>...</td>\n",
       "      <td>0.55</td>\n",
       "      <td>23.78</td>\n",
       "      <td>2.36</td>\n",
       "      <td>3.3</td>\n",
       "      <td>1</td>\n",
       "      <td>366.0</td>\n",
       "      <td>2573.00</td>\n",
       "      <td>156.5</td>\n",
       "      <td>155.0</td>\n",
       "      <td>2.65</td>\n",
       "    </tr>\n",
       "    <tr>\n",
       "      <th>Cl</th>\n",
       "      <td>17</td>\n",
       "      <td>35.45</td>\n",
       "      <td>3</td>\n",
       "      <td>17</td>\n",
       "      <td>8</td>\n",
       "      <td>94</td>\n",
       "      <td>1</td>\n",
       "      <td>0.79</td>\n",
       "      <td>NaN</td>\n",
       "      <td>0.99</td>\n",
       "      <td>...</td>\n",
       "      <td>NaN</td>\n",
       "      <td>NaN</td>\n",
       "      <td>NaN</td>\n",
       "      <td>NaN</td>\n",
       "      <td>5</td>\n",
       "      <td>202.0</td>\n",
       "      <td>416.96</td>\n",
       "      <td>NaN</td>\n",
       "      <td>NaN</td>\n",
       "      <td>NaN</td>\n",
       "    </tr>\n",
       "  </tbody>\n",
       "</table>\n",
       "<p>2 rows × 57 columns</p>\n",
       "</div>"
      ],
      "text/plain": [
       "        Atomic_Number  Atomic_Weight  Period  group  families  Mendele_Number  \\\n",
       "Symbol                                                                          \n",
       "Na                 11          22.99       3      1         1               2   \n",
       "Cl                 17          35.45       3     17         8              94   \n",
       "\n",
       "        l_quantum_number  Atomic_Radus  Miracle_Radius_[pm]  Covalent_Radius  \\\n",
       "Symbol                                                                         \n",
       "Na                     0          1.90                180.0             1.54   \n",
       "Cl                     1          0.79                  NaN             0.99   \n",
       "\n",
       "                      ...                 nws(e/au3)  volume(10-6m3)  \\\n",
       "Symbol                ...                                              \n",
       "Na                    ...                       0.55           23.78   \n",
       "Cl                    ...                        NaN             NaN   \n",
       "\n",
       "        Work_function    G  abs_valence  Nearest_Neighbor_Distance(pm)  \\\n",
       "Symbol                                                                   \n",
       "Na               2.36  3.3            1                          366.0   \n",
       "Cl                NaN  NaN            5                          202.0   \n",
       "\n",
       "        Critical_Temperature  Low_Temp_Debye(K)  High_Temp_Debye(K)  \\\n",
       "Symbol                                                                \n",
       "Na                   2573.00              156.5               155.0   \n",
       "Cl                    416.96                NaN                 NaN   \n",
       "\n",
       "        Atomic_Concentration(1e-23_cm-3)  \n",
       "Symbol                                    \n",
       "Na                                  2.65  \n",
       "Cl                                   NaN  \n",
       "\n",
       "[2 rows x 57 columns]"
      ]
     },
     "execution_count": 64,
     "metadata": {},
     "output_type": "execute_result"
    }
   ],
   "source": [
    "element_data.loc[list(fractional_composition.keys())]"
   ]
  },
  {
   "cell_type": "code",
   "execution_count": 65,
   "metadata": {},
   "outputs": [],
   "source": [
    "# create empy lists to add features, and targets to\n",
    "features = []\n",
    "targets = []\n",
    "\n",
    "for formula, target in zip(heat_capacity_dataframe['FORMULA'],\n",
    "                           heat_capacity_dataframe[\n",
    "                               'PROPERTY: Heat Capacity (J/mol K)']):\n",
    "    # send the formula into the get_features function. Saves the feature vector\n",
    "    features.append(get_features(formula))\n",
    "    targets.append(target)\n",
    "    \n",
    "# define the features and target for machine learning\n",
    "df_features = pd.DataFrame(features)\n",
    "\n",
    "# a series is the 'vector' version of a dataframe.\n",
    "# you will usually want your target vector to be a series if using sklearn\n",
    "# for machine learning.\n",
    "df_targets = pd.Series(targets)"
   ]
  },
  {
   "cell_type": "code",
   "execution_count": null,
   "metadata": {},
   "outputs": [],
   "source": []
  }
 ],
 "metadata": {
  "kernelspec": {
   "display_name": "Python 3",
   "language": "python",
   "name": "python3"
  },
  "language_info": {
   "codemirror_mode": {
    "name": "ipython",
    "version": 3
   },
   "file_extension": ".py",
   "mimetype": "text/x-python",
   "name": "python",
   "nbconvert_exporter": "python",
   "pygments_lexer": "ipython3",
   "version": "3.7.1"
  }
 },
 "nbformat": 4,
 "nbformat_minor": 2
}
